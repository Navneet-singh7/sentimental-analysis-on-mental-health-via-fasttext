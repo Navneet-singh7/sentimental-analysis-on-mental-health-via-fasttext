{
 "cells": [
  {
   "cell_type": "code",
   "execution_count": 1,
   "id": "59ea4abd",
   "metadata": {},
   "outputs": [],
   "source": [
    "import pandas as pd\n",
    "import numpy as np\n",
    "import re\n",
    "import seaborn as sns\n",
    "import matplotlib.pyplot as plt\n",
    "from matplotlib import style\n",
    "style.use('ggplot')\n",
    "from textblob import TextBlob\n",
    "from nltk.tokenize import word_tokenize\n",
    "from nltk.stem import PorterStemmer\n",
    "from nltk.corpus import stopwords\n",
    "stop_words = set(stopwords.words('english'))\n",
    "from wordcloud import WordCloud\n",
    "from sklearn.feature_extraction.text import CountVectorizer\n",
    "from sklearn.model_selection import train_test_split\n",
    "from sklearn.linear_model import LogisticRegression\n",
    "from sklearn.metrics import accuracy_score, classification_report, confusion_matrix, ConfusionMatrixDisplay"
   ]
  },
  {
   "cell_type": "code",
   "execution_count": 2,
   "id": "bfdfc726",
   "metadata": {},
   "outputs": [
    {
     "data": {
      "text/html": [
       "<div>\n",
       "<style scoped>\n",
       "    .dataframe tbody tr th:only-of-type {\n",
       "        vertical-align: middle;\n",
       "    }\n",
       "\n",
       "    .dataframe tbody tr th {\n",
       "        vertical-align: top;\n",
       "    }\n",
       "\n",
       "    .dataframe thead th {\n",
       "        text-align: right;\n",
       "    }\n",
       "</style>\n",
       "<table border=\"1\" class=\"dataframe\">\n",
       "  <thead>\n",
       "    <tr style=\"text-align: right;\">\n",
       "      <th></th>\n",
       "      <th>subreddit</th>\n",
       "      <th>post_id</th>\n",
       "      <th>sentence_range</th>\n",
       "      <th>text</th>\n",
       "      <th>id</th>\n",
       "      <th>label</th>\n",
       "      <th>confidence</th>\n",
       "      <th>social_timestamp</th>\n",
       "      <th>social_karma</th>\n",
       "      <th>syntax_ari</th>\n",
       "      <th>...</th>\n",
       "      <th>lex_dal_min_pleasantness</th>\n",
       "      <th>lex_dal_min_activation</th>\n",
       "      <th>lex_dal_min_imagery</th>\n",
       "      <th>lex_dal_avg_activation</th>\n",
       "      <th>lex_dal_avg_imagery</th>\n",
       "      <th>lex_dal_avg_pleasantness</th>\n",
       "      <th>social_upvote_ratio</th>\n",
       "      <th>social_num_comments</th>\n",
       "      <th>syntax_fk_grade</th>\n",
       "      <th>sentiment</th>\n",
       "    </tr>\n",
       "  </thead>\n",
       "  <tbody>\n",
       "    <tr>\n",
       "      <th>0</th>\n",
       "      <td>ptsd</td>\n",
       "      <td>8601tu</td>\n",
       "      <td>(15, 20)</td>\n",
       "      <td>He said he had not felt that way before, sugge...</td>\n",
       "      <td>33181</td>\n",
       "      <td>1</td>\n",
       "      <td>0.8</td>\n",
       "      <td>1521614353</td>\n",
       "      <td>5</td>\n",
       "      <td>1.806818</td>\n",
       "      <td>...</td>\n",
       "      <td>1.000</td>\n",
       "      <td>1.1250</td>\n",
       "      <td>1.0</td>\n",
       "      <td>1.77000</td>\n",
       "      <td>1.52211</td>\n",
       "      <td>1.89556</td>\n",
       "      <td>0.86</td>\n",
       "      <td>1</td>\n",
       "      <td>3.253573</td>\n",
       "      <td>-0.002742</td>\n",
       "    </tr>\n",
       "    <tr>\n",
       "      <th>1</th>\n",
       "      <td>assistance</td>\n",
       "      <td>8lbrx9</td>\n",
       "      <td>(0, 5)</td>\n",
       "      <td>Hey there r/assistance, Not sure if this is th...</td>\n",
       "      <td>2606</td>\n",
       "      <td>0</td>\n",
       "      <td>1.0</td>\n",
       "      <td>1527009817</td>\n",
       "      <td>4</td>\n",
       "      <td>9.429737</td>\n",
       "      <td>...</td>\n",
       "      <td>1.125</td>\n",
       "      <td>1.0000</td>\n",
       "      <td>1.0</td>\n",
       "      <td>1.69586</td>\n",
       "      <td>1.62045</td>\n",
       "      <td>1.88919</td>\n",
       "      <td>0.65</td>\n",
       "      <td>2</td>\n",
       "      <td>8.828316</td>\n",
       "      <td>0.292857</td>\n",
       "    </tr>\n",
       "    <tr>\n",
       "      <th>2</th>\n",
       "      <td>ptsd</td>\n",
       "      <td>9ch1zh</td>\n",
       "      <td>(15, 20)</td>\n",
       "      <td>My mom then hit me with the newspaper and it s...</td>\n",
       "      <td>38816</td>\n",
       "      <td>1</td>\n",
       "      <td>0.8</td>\n",
       "      <td>1535935605</td>\n",
       "      <td>2</td>\n",
       "      <td>7.769821</td>\n",
       "      <td>...</td>\n",
       "      <td>1.000</td>\n",
       "      <td>1.1429</td>\n",
       "      <td>1.0</td>\n",
       "      <td>1.83088</td>\n",
       "      <td>1.58108</td>\n",
       "      <td>1.85828</td>\n",
       "      <td>0.67</td>\n",
       "      <td>0</td>\n",
       "      <td>7.841667</td>\n",
       "      <td>0.011894</td>\n",
       "    </tr>\n",
       "    <tr>\n",
       "      <th>3</th>\n",
       "      <td>relationships</td>\n",
       "      <td>7rorpp</td>\n",
       "      <td>[5, 10]</td>\n",
       "      <td>until i met my new boyfriend, he is amazing, h...</td>\n",
       "      <td>239</td>\n",
       "      <td>1</td>\n",
       "      <td>0.6</td>\n",
       "      <td>1516429555</td>\n",
       "      <td>0</td>\n",
       "      <td>2.667798</td>\n",
       "      <td>...</td>\n",
       "      <td>1.000</td>\n",
       "      <td>1.1250</td>\n",
       "      <td>1.0</td>\n",
       "      <td>1.75356</td>\n",
       "      <td>1.52114</td>\n",
       "      <td>1.98848</td>\n",
       "      <td>0.50</td>\n",
       "      <td>5</td>\n",
       "      <td>4.104027</td>\n",
       "      <td>0.141671</td>\n",
       "    </tr>\n",
       "    <tr>\n",
       "      <th>4</th>\n",
       "      <td>survivorsofabuse</td>\n",
       "      <td>9p2gbc</td>\n",
       "      <td>[0, 5]</td>\n",
       "      <td>October is Domestic Violence Awareness Month a...</td>\n",
       "      <td>1421</td>\n",
       "      <td>1</td>\n",
       "      <td>0.8</td>\n",
       "      <td>1539809005</td>\n",
       "      <td>24</td>\n",
       "      <td>7.554238</td>\n",
       "      <td>...</td>\n",
       "      <td>1.000</td>\n",
       "      <td>1.1250</td>\n",
       "      <td>1.0</td>\n",
       "      <td>1.77644</td>\n",
       "      <td>1.64872</td>\n",
       "      <td>1.81456</td>\n",
       "      <td>1.00</td>\n",
       "      <td>1</td>\n",
       "      <td>7.910952</td>\n",
       "      <td>-0.204167</td>\n",
       "    </tr>\n",
       "    <tr>\n",
       "      <th>5</th>\n",
       "      <td>relationships</td>\n",
       "      <td>7tx7et</td>\n",
       "      <td>(30, 35)</td>\n",
       "      <td>I think he doesn't want to put in the effort f...</td>\n",
       "      <td>17554</td>\n",
       "      <td>1</td>\n",
       "      <td>1.0</td>\n",
       "      <td>1517274027</td>\n",
       "      <td>2</td>\n",
       "      <td>3.531124</td>\n",
       "      <td>...</td>\n",
       "      <td>1.000</td>\n",
       "      <td>1.1818</td>\n",
       "      <td>1.0</td>\n",
       "      <td>1.70415</td>\n",
       "      <td>1.44396</td>\n",
       "      <td>1.82046</td>\n",
       "      <td>0.75</td>\n",
       "      <td>5</td>\n",
       "      <td>4.338429</td>\n",
       "      <td>-0.550000</td>\n",
       "    </tr>\n",
       "    <tr>\n",
       "      <th>6</th>\n",
       "      <td>domesticviolence</td>\n",
       "      <td>7iphly</td>\n",
       "      <td>[25, 30]</td>\n",
       "      <td>It was a big company so luckily I didn't have ...</td>\n",
       "      <td>165</td>\n",
       "      <td>0</td>\n",
       "      <td>0.8</td>\n",
       "      <td>1512854409</td>\n",
       "      <td>6</td>\n",
       "      <td>8.331463</td>\n",
       "      <td>...</td>\n",
       "      <td>1.000</td>\n",
       "      <td>1.1250</td>\n",
       "      <td>1.0</td>\n",
       "      <td>1.66985</td>\n",
       "      <td>1.57757</td>\n",
       "      <td>1.89926</td>\n",
       "      <td>0.88</td>\n",
       "      <td>29</td>\n",
       "      <td>8.394244</td>\n",
       "      <td>0.277381</td>\n",
       "    </tr>\n",
       "    <tr>\n",
       "      <th>7</th>\n",
       "      <td>anxiety</td>\n",
       "      <td>5m3k80</td>\n",
       "      <td>(5, 10)</td>\n",
       "      <td>It cleared up and I was okay but. On Monday ...</td>\n",
       "      <td>33053</td>\n",
       "      <td>1</td>\n",
       "      <td>0.8</td>\n",
       "      <td>1483582174</td>\n",
       "      <td>1</td>\n",
       "      <td>0.403679</td>\n",
       "      <td>...</td>\n",
       "      <td>1.000</td>\n",
       "      <td>1.1429</td>\n",
       "      <td>1.0</td>\n",
       "      <td>1.69549</td>\n",
       "      <td>1.44860</td>\n",
       "      <td>1.88963</td>\n",
       "      <td>1.00</td>\n",
       "      <td>0</td>\n",
       "      <td>1.028654</td>\n",
       "      <td>-0.079630</td>\n",
       "    </tr>\n",
       "    <tr>\n",
       "      <th>8</th>\n",
       "      <td>relationships</td>\n",
       "      <td>7nhy1v</td>\n",
       "      <td>(50, 55)</td>\n",
       "      <td>I actually give an assistant half my emergency...</td>\n",
       "      <td>7581</td>\n",
       "      <td>1</td>\n",
       "      <td>0.6</td>\n",
       "      <td>1514843984</td>\n",
       "      <td>134</td>\n",
       "      <td>5.381111</td>\n",
       "      <td>...</td>\n",
       "      <td>1.000</td>\n",
       "      <td>1.0000</td>\n",
       "      <td>1.0</td>\n",
       "      <td>1.73571</td>\n",
       "      <td>1.71471</td>\n",
       "      <td>1.93607</td>\n",
       "      <td>0.94</td>\n",
       "      <td>43</td>\n",
       "      <td>5.991049</td>\n",
       "      <td>-0.272917</td>\n",
       "    </tr>\n",
       "    <tr>\n",
       "      <th>9</th>\n",
       "      <td>assistance</td>\n",
       "      <td>61eiq6</td>\n",
       "      <td>[15, 20]</td>\n",
       "      <td>I just feel like the street life has fucked my...</td>\n",
       "      <td>1517</td>\n",
       "      <td>1</td>\n",
       "      <td>1.0</td>\n",
       "      <td>1490428087</td>\n",
       "      <td>20</td>\n",
       "      <td>1.562351</td>\n",
       "      <td>...</td>\n",
       "      <td>1.000</td>\n",
       "      <td>1.1250</td>\n",
       "      <td>1.0</td>\n",
       "      <td>1.74956</td>\n",
       "      <td>1.67353</td>\n",
       "      <td>1.89320</td>\n",
       "      <td>0.80</td>\n",
       "      <td>6</td>\n",
       "      <td>2.851935</td>\n",
       "      <td>-0.117262</td>\n",
       "    </tr>\n",
       "  </tbody>\n",
       "</table>\n",
       "<p>10 rows × 116 columns</p>\n",
       "</div>"
      ],
      "text/plain": [
       "          subreddit post_id sentence_range  \\\n",
       "0              ptsd  8601tu       (15, 20)   \n",
       "1        assistance  8lbrx9         (0, 5)   \n",
       "2              ptsd  9ch1zh       (15, 20)   \n",
       "3     relationships  7rorpp        [5, 10]   \n",
       "4  survivorsofabuse  9p2gbc         [0, 5]   \n",
       "5     relationships  7tx7et       (30, 35)   \n",
       "6  domesticviolence  7iphly       [25, 30]   \n",
       "7           anxiety  5m3k80        (5, 10)   \n",
       "8     relationships  7nhy1v       (50, 55)   \n",
       "9        assistance  61eiq6       [15, 20]   \n",
       "\n",
       "                                                text     id  label  \\\n",
       "0  He said he had not felt that way before, sugge...  33181      1   \n",
       "1  Hey there r/assistance, Not sure if this is th...   2606      0   \n",
       "2  My mom then hit me with the newspaper and it s...  38816      1   \n",
       "3  until i met my new boyfriend, he is amazing, h...    239      1   \n",
       "4  October is Domestic Violence Awareness Month a...   1421      1   \n",
       "5  I think he doesn't want to put in the effort f...  17554      1   \n",
       "6  It was a big company so luckily I didn't have ...    165      0   \n",
       "7    It cleared up and I was okay but. On Monday ...  33053      1   \n",
       "8  I actually give an assistant half my emergency...   7581      1   \n",
       "9  I just feel like the street life has fucked my...   1517      1   \n",
       "\n",
       "   confidence  social_timestamp  social_karma  syntax_ari  ...  \\\n",
       "0         0.8        1521614353             5    1.806818  ...   \n",
       "1         1.0        1527009817             4    9.429737  ...   \n",
       "2         0.8        1535935605             2    7.769821  ...   \n",
       "3         0.6        1516429555             0    2.667798  ...   \n",
       "4         0.8        1539809005            24    7.554238  ...   \n",
       "5         1.0        1517274027             2    3.531124  ...   \n",
       "6         0.8        1512854409             6    8.331463  ...   \n",
       "7         0.8        1483582174             1    0.403679  ...   \n",
       "8         0.6        1514843984           134    5.381111  ...   \n",
       "9         1.0        1490428087            20    1.562351  ...   \n",
       "\n",
       "   lex_dal_min_pleasantness  lex_dal_min_activation  lex_dal_min_imagery  \\\n",
       "0                     1.000                  1.1250                  1.0   \n",
       "1                     1.125                  1.0000                  1.0   \n",
       "2                     1.000                  1.1429                  1.0   \n",
       "3                     1.000                  1.1250                  1.0   \n",
       "4                     1.000                  1.1250                  1.0   \n",
       "5                     1.000                  1.1818                  1.0   \n",
       "6                     1.000                  1.1250                  1.0   \n",
       "7                     1.000                  1.1429                  1.0   \n",
       "8                     1.000                  1.0000                  1.0   \n",
       "9                     1.000                  1.1250                  1.0   \n",
       "\n",
       "   lex_dal_avg_activation  lex_dal_avg_imagery  lex_dal_avg_pleasantness  \\\n",
       "0                 1.77000              1.52211                   1.89556   \n",
       "1                 1.69586              1.62045                   1.88919   \n",
       "2                 1.83088              1.58108                   1.85828   \n",
       "3                 1.75356              1.52114                   1.98848   \n",
       "4                 1.77644              1.64872                   1.81456   \n",
       "5                 1.70415              1.44396                   1.82046   \n",
       "6                 1.66985              1.57757                   1.89926   \n",
       "7                 1.69549              1.44860                   1.88963   \n",
       "8                 1.73571              1.71471                   1.93607   \n",
       "9                 1.74956              1.67353                   1.89320   \n",
       "\n",
       "   social_upvote_ratio  social_num_comments  syntax_fk_grade  sentiment  \n",
       "0                 0.86                    1         3.253573  -0.002742  \n",
       "1                 0.65                    2         8.828316   0.292857  \n",
       "2                 0.67                    0         7.841667   0.011894  \n",
       "3                 0.50                    5         4.104027   0.141671  \n",
       "4                 1.00                    1         7.910952  -0.204167  \n",
       "5                 0.75                    5         4.338429  -0.550000  \n",
       "6                 0.88                   29         8.394244   0.277381  \n",
       "7                 1.00                    0         1.028654  -0.079630  \n",
       "8                 0.94                   43         5.991049  -0.272917  \n",
       "9                 0.80                    6         2.851935  -0.117262  \n",
       "\n",
       "[10 rows x 116 columns]"
      ]
     },
     "execution_count": 2,
     "metadata": {},
     "output_type": "execute_result"
    }
   ],
   "source": [
    "df=pd.read_csv(r\"C:\\Users\\Navneet singh\\Downloads\\dreaddit-train.csv\")\n",
    "df.head(10)"
   ]
  },
  {
   "cell_type": "code",
   "execution_count": 3,
   "id": "a5549f5f",
   "metadata": {},
   "outputs": [
    {
     "data": {
      "text/html": [
       "<div>\n",
       "<style scoped>\n",
       "    .dataframe tbody tr th:only-of-type {\n",
       "        vertical-align: middle;\n",
       "    }\n",
       "\n",
       "    .dataframe tbody tr th {\n",
       "        vertical-align: top;\n",
       "    }\n",
       "\n",
       "    .dataframe thead th {\n",
       "        text-align: right;\n",
       "    }\n",
       "</style>\n",
       "<table border=\"1\" class=\"dataframe\">\n",
       "  <thead>\n",
       "    <tr style=\"text-align: right;\">\n",
       "      <th></th>\n",
       "      <th>subreddit</th>\n",
       "      <th>text</th>\n",
       "      <th>label</th>\n",
       "    </tr>\n",
       "  </thead>\n",
       "  <tbody>\n",
       "    <tr>\n",
       "      <th>0</th>\n",
       "      <td>ptsd</td>\n",
       "      <td>He said he had not felt that way before, sugge...</td>\n",
       "      <td>1</td>\n",
       "    </tr>\n",
       "    <tr>\n",
       "      <th>1</th>\n",
       "      <td>assistance</td>\n",
       "      <td>Hey there r/assistance, Not sure if this is th...</td>\n",
       "      <td>0</td>\n",
       "    </tr>\n",
       "    <tr>\n",
       "      <th>2</th>\n",
       "      <td>ptsd</td>\n",
       "      <td>My mom then hit me with the newspaper and it s...</td>\n",
       "      <td>1</td>\n",
       "    </tr>\n",
       "    <tr>\n",
       "      <th>3</th>\n",
       "      <td>relationships</td>\n",
       "      <td>until i met my new boyfriend, he is amazing, h...</td>\n",
       "      <td>1</td>\n",
       "    </tr>\n",
       "    <tr>\n",
       "      <th>4</th>\n",
       "      <td>survivorsofabuse</td>\n",
       "      <td>October is Domestic Violence Awareness Month a...</td>\n",
       "      <td>1</td>\n",
       "    </tr>\n",
       "  </tbody>\n",
       "</table>\n",
       "</div>"
      ],
      "text/plain": [
       "          subreddit                                               text  label\n",
       "0              ptsd  He said he had not felt that way before, sugge...      1\n",
       "1        assistance  Hey there r/assistance, Not sure if this is th...      0\n",
       "2              ptsd  My mom then hit me with the newspaper and it s...      1\n",
       "3     relationships  until i met my new boyfriend, he is amazing, h...      1\n",
       "4  survivorsofabuse  October is Domestic Violence Awareness Month a...      1"
      ]
     },
     "execution_count": 3,
     "metadata": {},
     "output_type": "execute_result"
    }
   ],
   "source": [
    "df1=df[['subreddit','text','label']]\n",
    "df1.head()"
   ]
  },
  {
   "cell_type": "code",
   "execution_count": 4,
   "id": "8ab99ebe",
   "metadata": {},
   "outputs": [],
   "source": [
    "def data_processing(text):\n",
    "    text = text.lower()\n",
    "    text = re.sub(r\"https\\S+|www\\S+https\\S+\", '',text, flags=re.MULTILINE)\n",
    "    text = re.sub(r'\\@w+|\\#','',text)\n",
    "    text = re.sub(r'[^\\w\\s]','',text)\n",
    "    text_tokens = word_tokenize(text)\n",
    "    filtered_text = [w for w in text_tokens if not w in stop_words]\n",
    "    return \" \".join(filtered_text)"
   ]
  },
  {
   "cell_type": "code",
   "execution_count": 5,
   "id": "48109e2a",
   "metadata": {},
   "outputs": [
    {
     "name": "stderr",
     "output_type": "stream",
     "text": [
      "C:\\Users\\Navneet singh\\anaconda3\\lib\\site-packages\\pandas\\core\\generic.py:5516: SettingWithCopyWarning: \n",
      "A value is trying to be set on a copy of a slice from a DataFrame.\n",
      "Try using .loc[row_indexer,col_indexer] = value instead\n",
      "\n",
      "See the caveats in the documentation: https://pandas.pydata.org/pandas-docs/stable/user_guide/indexing.html#returning-a-view-versus-a-copy\n",
      "  self[name] = value\n"
     ]
    }
   ],
   "source": [
    "df1.text = df1['text'].apply(data_processing)"
   ]
  },
  {
   "cell_type": "code",
   "execution_count": 6,
   "id": "a6ebc0f0",
   "metadata": {},
   "outputs": [],
   "source": [
    "df1=df1.drop_duplicates('text')"
   ]
  },
  {
   "cell_type": "code",
   "execution_count": 7,
   "id": "179d8836",
   "metadata": {},
   "outputs": [],
   "source": [
    "stemmer = PorterStemmer()\n",
    "def stemming(data):\n",
    "    text = [stemmer.stem(word) for word in data]\n",
    "    return data"
   ]
  },
  {
   "cell_type": "code",
   "execution_count": 8,
   "id": "26061f89",
   "metadata": {},
   "outputs": [],
   "source": [
    "df1[['subreddit','text']] = df1[['subreddit','text']].apply(lambda x: stemming(x))"
   ]
  },
  {
   "cell_type": "code",
   "execution_count": 9,
   "id": "372f6ef7",
   "metadata": {},
   "outputs": [
    {
     "data": {
      "text/html": [
       "<div>\n",
       "<style scoped>\n",
       "    .dataframe tbody tr th:only-of-type {\n",
       "        vertical-align: middle;\n",
       "    }\n",
       "\n",
       "    .dataframe tbody tr th {\n",
       "        vertical-align: top;\n",
       "    }\n",
       "\n",
       "    .dataframe thead th {\n",
       "        text-align: right;\n",
       "    }\n",
       "</style>\n",
       "<table border=\"1\" class=\"dataframe\">\n",
       "  <thead>\n",
       "    <tr style=\"text-align: right;\">\n",
       "      <th></th>\n",
       "      <th>subreddit</th>\n",
       "      <th>text</th>\n",
       "      <th>label</th>\n",
       "    </tr>\n",
       "  </thead>\n",
       "  <tbody>\n",
       "    <tr>\n",
       "      <th>0</th>\n",
       "      <td>ptsd</td>\n",
       "      <td>said felt way suggeted go rest trigger ahead y...</td>\n",
       "      <td>1</td>\n",
       "    </tr>\n",
       "    <tr>\n",
       "      <th>1</th>\n",
       "      <td>assistance</td>\n",
       "      <td>hey rassistance sure right place post goes im ...</td>\n",
       "      <td>0</td>\n",
       "    </tr>\n",
       "    <tr>\n",
       "      <th>2</th>\n",
       "      <td>ptsd</td>\n",
       "      <td>mom hit newspaper shocked would knows dont lik...</td>\n",
       "      <td>1</td>\n",
       "    </tr>\n",
       "    <tr>\n",
       "      <th>3</th>\n",
       "      <td>relationships</td>\n",
       "      <td>met new boyfriend amazing kind sweet good stud...</td>\n",
       "      <td>1</td>\n",
       "    </tr>\n",
       "    <tr>\n",
       "      <th>4</th>\n",
       "      <td>survivorsofabuse</td>\n",
       "      <td>october domestic violence awareness month dome...</td>\n",
       "      <td>1</td>\n",
       "    </tr>\n",
       "  </tbody>\n",
       "</table>\n",
       "</div>"
      ],
      "text/plain": [
       "          subreddit                                               text  label\n",
       "0              ptsd  said felt way suggeted go rest trigger ahead y...      1\n",
       "1        assistance  hey rassistance sure right place post goes im ...      0\n",
       "2              ptsd  mom hit newspaper shocked would knows dont lik...      1\n",
       "3     relationships  met new boyfriend amazing kind sweet good stud...      1\n",
       "4  survivorsofabuse  october domestic violence awareness month dome...      1"
      ]
     },
     "execution_count": 9,
     "metadata": {},
     "output_type": "execute_result"
    }
   ],
   "source": [
    "df1.head()"
   ]
  },
  {
   "cell_type": "code",
   "execution_count": 10,
   "id": "bfd951da",
   "metadata": {},
   "outputs": [
    {
     "data": {
      "text/plain": [
       "'still holds back life still finds ways get yet still talk always feel worse ive tried blocking social media still finds ways get'"
      ]
     },
     "execution_count": 10,
     "metadata": {},
     "output_type": "execute_result"
    }
   ],
   "source": [
    "mytext=df1.text[20]\n",
    "mytext"
   ]
  },
  {
   "cell_type": "code",
   "execution_count": 11,
   "id": "3a9c36b8",
   "metadata": {},
   "outputs": [],
   "source": [
    "import re"
   ]
  },
  {
   "cell_type": "code",
   "execution_count": 12,
   "id": "d7507a27",
   "metadata": {},
   "outputs": [],
   "source": [
    "def preprocessing(text):\n",
    "    text=re.sub(r'[^\\w\\s\\']',\"\",text)\n",
    "    text=re.sub(' +',' ',text).lower()\n",
    "    return text"
   ]
  },
  {
   "cell_type": "code",
   "execution_count": 13,
   "id": "df6db2fb",
   "metadata": {},
   "outputs": [
    {
     "data": {
      "text/plain": [
       "'still holds back life still finds ways get yet still talk always feel worse ive tried blocking social media still finds ways get'"
      ]
     },
     "execution_count": 13,
     "metadata": {},
     "output_type": "execute_result"
    }
   ],
   "source": [
    "preprocessing(mytext)"
   ]
  },
  {
   "cell_type": "code",
   "execution_count": 14,
   "id": "b4a582c0",
   "metadata": {},
   "outputs": [],
   "source": [
    "df1['processed']=df1['text'].map(preprocessing)"
   ]
  },
  {
   "cell_type": "code",
   "execution_count": 15,
   "id": "04efb45a",
   "metadata": {},
   "outputs": [
    {
     "data": {
      "text/html": [
       "<div>\n",
       "<style scoped>\n",
       "    .dataframe tbody tr th:only-of-type {\n",
       "        vertical-align: middle;\n",
       "    }\n",
       "\n",
       "    .dataframe tbody tr th {\n",
       "        vertical-align: top;\n",
       "    }\n",
       "\n",
       "    .dataframe thead th {\n",
       "        text-align: right;\n",
       "    }\n",
       "</style>\n",
       "<table border=\"1\" class=\"dataframe\">\n",
       "  <thead>\n",
       "    <tr style=\"text-align: right;\">\n",
       "      <th></th>\n",
       "      <th>subreddit</th>\n",
       "      <th>text</th>\n",
       "      <th>label</th>\n",
       "      <th>processed</th>\n",
       "    </tr>\n",
       "  </thead>\n",
       "  <tbody>\n",
       "    <tr>\n",
       "      <th>0</th>\n",
       "      <td>ptsd</td>\n",
       "      <td>said felt way suggeted go rest trigger ahead y...</td>\n",
       "      <td>1</td>\n",
       "      <td>said felt way suggeted go rest trigger ahead y...</td>\n",
       "    </tr>\n",
       "    <tr>\n",
       "      <th>1</th>\n",
       "      <td>assistance</td>\n",
       "      <td>hey rassistance sure right place post goes im ...</td>\n",
       "      <td>0</td>\n",
       "      <td>hey rassistance sure right place post goes im ...</td>\n",
       "    </tr>\n",
       "    <tr>\n",
       "      <th>2</th>\n",
       "      <td>ptsd</td>\n",
       "      <td>mom hit newspaper shocked would knows dont lik...</td>\n",
       "      <td>1</td>\n",
       "      <td>mom hit newspaper shocked would knows dont lik...</td>\n",
       "    </tr>\n",
       "    <tr>\n",
       "      <th>3</th>\n",
       "      <td>relationships</td>\n",
       "      <td>met new boyfriend amazing kind sweet good stud...</td>\n",
       "      <td>1</td>\n",
       "      <td>met new boyfriend amazing kind sweet good stud...</td>\n",
       "    </tr>\n",
       "    <tr>\n",
       "      <th>4</th>\n",
       "      <td>survivorsofabuse</td>\n",
       "      <td>october domestic violence awareness month dome...</td>\n",
       "      <td>1</td>\n",
       "      <td>october domestic violence awareness month dome...</td>\n",
       "    </tr>\n",
       "    <tr>\n",
       "      <th>5</th>\n",
       "      <td>relationships</td>\n",
       "      <td>think doesnt want put effort relationship work...</td>\n",
       "      <td>1</td>\n",
       "      <td>think doesnt want put effort relationship work...</td>\n",
       "    </tr>\n",
       "    <tr>\n",
       "      <th>6</th>\n",
       "      <td>domesticviolence</td>\n",
       "      <td>big company luckily didnt see time acted thoug...</td>\n",
       "      <td>0</td>\n",
       "      <td>big company luckily didnt see time acted thoug...</td>\n",
       "    </tr>\n",
       "    <tr>\n",
       "      <th>7</th>\n",
       "      <td>anxiety</td>\n",
       "      <td>cleared okay monday thinking humans brain work...</td>\n",
       "      <td>1</td>\n",
       "      <td>cleared okay monday thinking humans brain work...</td>\n",
       "    </tr>\n",
       "    <tr>\n",
       "      <th>8</th>\n",
       "      <td>relationships</td>\n",
       "      <td>actually give assistant half emergency fee com...</td>\n",
       "      <td>1</td>\n",
       "      <td>actually give assistant half emergency fee com...</td>\n",
       "    </tr>\n",
       "    <tr>\n",
       "      <th>9</th>\n",
       "      <td>assistance</td>\n",
       "      <td>feel like street life fucked head theres much ...</td>\n",
       "      <td>1</td>\n",
       "      <td>feel like street life fucked head theres much ...</td>\n",
       "    </tr>\n",
       "    <tr>\n",
       "      <th>10</th>\n",
       "      <td>anxiety</td>\n",
       "      <td>next week ill flying family vacation flights w...</td>\n",
       "      <td>1</td>\n",
       "      <td>next week ill flying family vacation flights w...</td>\n",
       "    </tr>\n",
       "    <tr>\n",
       "      <th>11</th>\n",
       "      <td>anxiety</td>\n",
       "      <td>everything sets im almost panic attack im goin...</td>\n",
       "      <td>1</td>\n",
       "      <td>everything sets im almost panic attack im goin...</td>\n",
       "    </tr>\n",
       "    <tr>\n",
       "      <th>12</th>\n",
       "      <td>anxiety</td>\n",
       "      <td>ive taking 125 mgs zoloft 6 months yeah super ...</td>\n",
       "      <td>1</td>\n",
       "      <td>ive taking 125 mgs zoloft 6 months yeah super ...</td>\n",
       "    </tr>\n",
       "    <tr>\n",
       "      <th>13</th>\n",
       "      <td>homeless</td>\n",
       "      <td>place city shelter space us wont put baby lite...</td>\n",
       "      <td>1</td>\n",
       "      <td>place city shelter space us wont put baby lite...</td>\n",
       "    </tr>\n",
       "    <tr>\n",
       "      <th>14</th>\n",
       "      <td>anxiety</td>\n",
       "      <td>past couple months worst anxiety gotten bad ef...</td>\n",
       "      <td>1</td>\n",
       "      <td>past couple months worst anxiety gotten bad ef...</td>\n",
       "    </tr>\n",
       "    <tr>\n",
       "      <th>15</th>\n",
       "      <td>relationships</td>\n",
       "      <td>asked three time happened third time cried wen...</td>\n",
       "      <td>1</td>\n",
       "      <td>asked three time happened third time cried wen...</td>\n",
       "    </tr>\n",
       "    <tr>\n",
       "      <th>16</th>\n",
       "      <td>anxiety</td>\n",
       "      <td>sensation lasted hours seemed like circulation...</td>\n",
       "      <td>1</td>\n",
       "      <td>sensation lasted hours seemed like circulation...</td>\n",
       "    </tr>\n",
       "    <tr>\n",
       "      <th>17</th>\n",
       "      <td>domesticviolence</td>\n",
       "      <td>hurt didnt leave marks lied kept coughing toda...</td>\n",
       "      <td>1</td>\n",
       "      <td>hurt didnt leave marks lied kept coughing toda...</td>\n",
       "    </tr>\n",
       "    <tr>\n",
       "      <th>18</th>\n",
       "      <td>assistance</td>\n",
       "      <td>helping get kids area tan ability practice str...</td>\n",
       "      <td>0</td>\n",
       "      <td>helping get kids area tan ability practice str...</td>\n",
       "    </tr>\n",
       "    <tr>\n",
       "      <th>19</th>\n",
       "      <td>relationships</td>\n",
       "      <td>plans move together fancy 1800month home would...</td>\n",
       "      <td>0</td>\n",
       "      <td>plans move together fancy 1800month home would...</td>\n",
       "    </tr>\n",
       "  </tbody>\n",
       "</table>\n",
       "</div>"
      ],
      "text/plain": [
       "           subreddit                                               text  \\\n",
       "0               ptsd  said felt way suggeted go rest trigger ahead y...   \n",
       "1         assistance  hey rassistance sure right place post goes im ...   \n",
       "2               ptsd  mom hit newspaper shocked would knows dont lik...   \n",
       "3      relationships  met new boyfriend amazing kind sweet good stud...   \n",
       "4   survivorsofabuse  october domestic violence awareness month dome...   \n",
       "5      relationships  think doesnt want put effort relationship work...   \n",
       "6   domesticviolence  big company luckily didnt see time acted thoug...   \n",
       "7            anxiety  cleared okay monday thinking humans brain work...   \n",
       "8      relationships  actually give assistant half emergency fee com...   \n",
       "9         assistance  feel like street life fucked head theres much ...   \n",
       "10           anxiety  next week ill flying family vacation flights w...   \n",
       "11           anxiety  everything sets im almost panic attack im goin...   \n",
       "12           anxiety  ive taking 125 mgs zoloft 6 months yeah super ...   \n",
       "13          homeless  place city shelter space us wont put baby lite...   \n",
       "14           anxiety  past couple months worst anxiety gotten bad ef...   \n",
       "15     relationships  asked three time happened third time cried wen...   \n",
       "16           anxiety  sensation lasted hours seemed like circulation...   \n",
       "17  domesticviolence  hurt didnt leave marks lied kept coughing toda...   \n",
       "18        assistance  helping get kids area tan ability practice str...   \n",
       "19     relationships  plans move together fancy 1800month home would...   \n",
       "\n",
       "    label                                          processed  \n",
       "0       1  said felt way suggeted go rest trigger ahead y...  \n",
       "1       0  hey rassistance sure right place post goes im ...  \n",
       "2       1  mom hit newspaper shocked would knows dont lik...  \n",
       "3       1  met new boyfriend amazing kind sweet good stud...  \n",
       "4       1  october domestic violence awareness month dome...  \n",
       "5       1  think doesnt want put effort relationship work...  \n",
       "6       0  big company luckily didnt see time acted thoug...  \n",
       "7       1  cleared okay monday thinking humans brain work...  \n",
       "8       1  actually give assistant half emergency fee com...  \n",
       "9       1  feel like street life fucked head theres much ...  \n",
       "10      1  next week ill flying family vacation flights w...  \n",
       "11      1  everything sets im almost panic attack im goin...  \n",
       "12      1  ive taking 125 mgs zoloft 6 months yeah super ...  \n",
       "13      1  place city shelter space us wont put baby lite...  \n",
       "14      1  past couple months worst anxiety gotten bad ef...  \n",
       "15      1  asked three time happened third time cried wen...  \n",
       "16      1  sensation lasted hours seemed like circulation...  \n",
       "17      1  hurt didnt leave marks lied kept coughing toda...  \n",
       "18      0  helping get kids area tan ability practice str...  \n",
       "19      0  plans move together fancy 1800month home would...  "
      ]
     },
     "execution_count": 15,
     "metadata": {},
     "output_type": "execute_result"
    }
   ],
   "source": [
    "df1.head(20)"
   ]
  },
  {
   "cell_type": "code",
   "execution_count": 16,
   "id": "aa553fe0",
   "metadata": {},
   "outputs": [],
   "source": [
    "df1['final']=\"__label__\"+df1['subreddit'].astype(str)+\"_\"+df1['processed'].astype(str)"
   ]
  },
  {
   "cell_type": "code",
   "execution_count": 17,
   "id": "2e56e8b6",
   "metadata": {},
   "outputs": [
    {
     "data": {
      "text/html": [
       "<div>\n",
       "<style scoped>\n",
       "    .dataframe tbody tr th:only-of-type {\n",
       "        vertical-align: middle;\n",
       "    }\n",
       "\n",
       "    .dataframe tbody tr th {\n",
       "        vertical-align: top;\n",
       "    }\n",
       "\n",
       "    .dataframe thead th {\n",
       "        text-align: right;\n",
       "    }\n",
       "</style>\n",
       "<table border=\"1\" class=\"dataframe\">\n",
       "  <thead>\n",
       "    <tr style=\"text-align: right;\">\n",
       "      <th></th>\n",
       "      <th>subreddit</th>\n",
       "      <th>text</th>\n",
       "      <th>label</th>\n",
       "      <th>processed</th>\n",
       "      <th>final</th>\n",
       "    </tr>\n",
       "  </thead>\n",
       "  <tbody>\n",
       "    <tr>\n",
       "      <th>0</th>\n",
       "      <td>ptsd</td>\n",
       "      <td>said felt way suggeted go rest trigger ahead y...</td>\n",
       "      <td>1</td>\n",
       "      <td>said felt way suggeted go rest trigger ahead y...</td>\n",
       "      <td>__label__ptsd_said felt way suggeted go rest t...</td>\n",
       "    </tr>\n",
       "    <tr>\n",
       "      <th>1</th>\n",
       "      <td>assistance</td>\n",
       "      <td>hey rassistance sure right place post goes im ...</td>\n",
       "      <td>0</td>\n",
       "      <td>hey rassistance sure right place post goes im ...</td>\n",
       "      <td>__label__assistance_hey rassistance sure right...</td>\n",
       "    </tr>\n",
       "    <tr>\n",
       "      <th>2</th>\n",
       "      <td>ptsd</td>\n",
       "      <td>mom hit newspaper shocked would knows dont lik...</td>\n",
       "      <td>1</td>\n",
       "      <td>mom hit newspaper shocked would knows dont lik...</td>\n",
       "      <td>__label__ptsd_mom hit newspaper shocked would ...</td>\n",
       "    </tr>\n",
       "    <tr>\n",
       "      <th>3</th>\n",
       "      <td>relationships</td>\n",
       "      <td>met new boyfriend amazing kind sweet good stud...</td>\n",
       "      <td>1</td>\n",
       "      <td>met new boyfriend amazing kind sweet good stud...</td>\n",
       "      <td>__label__relationships_met new boyfriend amazi...</td>\n",
       "    </tr>\n",
       "    <tr>\n",
       "      <th>4</th>\n",
       "      <td>survivorsofabuse</td>\n",
       "      <td>october domestic violence awareness month dome...</td>\n",
       "      <td>1</td>\n",
       "      <td>october domestic violence awareness month dome...</td>\n",
       "      <td>__label__survivorsofabuse_october domestic vio...</td>\n",
       "    </tr>\n",
       "  </tbody>\n",
       "</table>\n",
       "</div>"
      ],
      "text/plain": [
       "          subreddit                                               text  label  \\\n",
       "0              ptsd  said felt way suggeted go rest trigger ahead y...      1   \n",
       "1        assistance  hey rassistance sure right place post goes im ...      0   \n",
       "2              ptsd  mom hit newspaper shocked would knows dont lik...      1   \n",
       "3     relationships  met new boyfriend amazing kind sweet good stud...      1   \n",
       "4  survivorsofabuse  october domestic violence awareness month dome...      1   \n",
       "\n",
       "                                           processed  \\\n",
       "0  said felt way suggeted go rest trigger ahead y...   \n",
       "1  hey rassistance sure right place post goes im ...   \n",
       "2  mom hit newspaper shocked would knows dont lik...   \n",
       "3  met new boyfriend amazing kind sweet good stud...   \n",
       "4  october domestic violence awareness month dome...   \n",
       "\n",
       "                                               final  \n",
       "0  __label__ptsd_said felt way suggeted go rest t...  \n",
       "1  __label__assistance_hey rassistance sure right...  \n",
       "2  __label__ptsd_mom hit newspaper shocked would ...  \n",
       "3  __label__relationships_met new boyfriend amazi...  \n",
       "4  __label__survivorsofabuse_october domestic vio...  "
      ]
     },
     "execution_count": 17,
     "metadata": {},
     "output_type": "execute_result"
    }
   ],
   "source": [
    "df1.head()"
   ]
  },
  {
   "cell_type": "code",
   "execution_count": 18,
   "id": "abf57dd7",
   "metadata": {},
   "outputs": [
    {
     "data": {
      "text/plain": [
       "(2838, 116)"
      ]
     },
     "execution_count": 18,
     "metadata": {},
     "output_type": "execute_result"
    }
   ],
   "source": [
    "df.shape"
   ]
  },
  {
   "cell_type": "code",
   "execution_count": 19,
   "id": "37f88075",
   "metadata": {},
   "outputs": [],
   "source": [
    "from sklearn.model_selection import train_test_split"
   ]
  },
  {
   "cell_type": "code",
   "execution_count": 20,
   "id": "bdf3b2a6",
   "metadata": {},
   "outputs": [],
   "source": [
    "train,test=train_test_split(df1,test_size=0.3,random_state=2022)"
   ]
  },
  {
   "cell_type": "code",
   "execution_count": 21,
   "id": "b8f9ddde",
   "metadata": {},
   "outputs": [
    {
     "data": {
      "text/plain": [
       "(1973, 5)"
      ]
     },
     "metadata": {},
     "output_type": "display_data"
    },
    {
     "data": {
      "text/plain": [
       "(846, 5)"
      ]
     },
     "metadata": {},
     "output_type": "display_data"
    }
   ],
   "source": [
    "display(train.shape)\n",
    "display(test.shape)"
   ]
  },
  {
   "cell_type": "code",
   "execution_count": 22,
   "id": "1bfa4e1c",
   "metadata": {},
   "outputs": [],
   "source": [
    "train.to_csv(r\"C:\\Users\\Navneet singh\\Desktop\\tillfasttextdata\\train_reviewfinal2edited.csv\",columns=['final'],index=False,header=False)\n",
    "test.to_csv(r\"C:\\Users\\Navneet singh\\Desktop\\tillfasttextdata\\test_reviewfinal2edited.csv\",columns=['final'],index=False,header=False)"
   ]
  },
  {
   "cell_type": "code",
   "execution_count": 23,
   "id": "ec91baab",
   "metadata": {},
   "outputs": [],
   "source": [
    "import fasttext"
   ]
  },
  {
   "cell_type": "code",
   "execution_count": 24,
   "id": "16030cf3",
   "metadata": {},
   "outputs": [],
   "source": [
    "myModel=fasttext.train_supervised(input=r\"C:\\Users\\Navneet singh\\Desktop\\tillfasttextdata\\train_reviewfinal2edited.csv\")"
   ]
  },
  {
   "cell_type": "code",
   "execution_count": 25,
   "id": "e72037ba",
   "metadata": {},
   "outputs": [
    {
     "data": {
      "text/plain": [
       "(371, 0.03773584905660377, 0.03773584905660377)"
      ]
     },
     "execution_count": 25,
     "metadata": {},
     "output_type": "execute_result"
    }
   ],
   "source": [
    "myModel.test(r\"C:\\Users\\Navneet singh\\Desktop\\tillfasttextdata\\test_reviewfinal2edited.csv\")"
   ]
  },
  {
   "cell_type": "code",
   "execution_count": 38,
   "id": "77167f7a",
   "metadata": {},
   "outputs": [],
   "source": [
    "train_data1 = train[~train['subreddit'].isin(['assistance', 'relationships', 'survivorsofabuse', 'homeless', 'almosthomeless', 'food_pantry'])]\n",
    "test_data1 = test[~test['subreddit'].isin(['assistance', 'relationships', 'survivorsofabuse', 'homeless', 'almosthomeless', 'food_pantry'])]"
   ]
  },
  {
   "cell_type": "code",
   "execution_count": 39,
   "id": "b88846bf",
   "metadata": {},
   "outputs": [
    {
     "data": {
      "text/html": [
       "<div>\n",
       "<style scoped>\n",
       "    .dataframe tbody tr th:only-of-type {\n",
       "        vertical-align: middle;\n",
       "    }\n",
       "\n",
       "    .dataframe tbody tr th {\n",
       "        vertical-align: top;\n",
       "    }\n",
       "\n",
       "    .dataframe thead th {\n",
       "        text-align: right;\n",
       "    }\n",
       "</style>\n",
       "<table border=\"1\" class=\"dataframe\">\n",
       "  <thead>\n",
       "    <tr style=\"text-align: right;\">\n",
       "      <th></th>\n",
       "      <th>subreddit</th>\n",
       "      <th>text</th>\n",
       "      <th>label</th>\n",
       "      <th>processed</th>\n",
       "      <th>final</th>\n",
       "    </tr>\n",
       "  </thead>\n",
       "  <tbody>\n",
       "    <tr>\n",
       "      <th>1992</th>\n",
       "      <td>ptsd</td>\n",
       "      <td>enraged said months ago maybe internet access ...</td>\n",
       "      <td>0</td>\n",
       "      <td>enraged said months ago maybe internet access ...</td>\n",
       "      <td>__label__ptsd_enraged said months ago maybe in...</td>\n",
       "    </tr>\n",
       "    <tr>\n",
       "      <th>266</th>\n",
       "      <td>anxiety</td>\n",
       "      <td>hello long long long time user paxil looking t...</td>\n",
       "      <td>0</td>\n",
       "      <td>hello long long long time user paxil looking t...</td>\n",
       "      <td>__label__anxiety_hello long long long time use...</td>\n",
       "    </tr>\n",
       "    <tr>\n",
       "      <th>1301</th>\n",
       "      <td>anxiety</td>\n",
       "      <td>hey ranxiety x200b im undergraduate student as...</td>\n",
       "      <td>0</td>\n",
       "      <td>hey ranxiety x200b im undergraduate student as...</td>\n",
       "      <td>__label__anxiety_hey ranxiety x200b im undergr...</td>\n",
       "    </tr>\n",
       "    <tr>\n",
       "      <th>1175</th>\n",
       "      <td>ptsd</td>\n",
       "      <td>hey friday woodworking competition everything ...</td>\n",
       "      <td>0</td>\n",
       "      <td>hey friday woodworking competition everything ...</td>\n",
       "      <td>__label__ptsd_hey friday woodworking competiti...</td>\n",
       "    </tr>\n",
       "    <tr>\n",
       "      <th>2218</th>\n",
       "      <td>domesticviolence</td>\n",
       "      <td>used forearm push plate eating counter glass b...</td>\n",
       "      <td>1</td>\n",
       "      <td>used forearm push plate eating counter glass b...</td>\n",
       "      <td>__label__domesticviolence_used forearm push pl...</td>\n",
       "    </tr>\n",
       "  </tbody>\n",
       "</table>\n",
       "</div>"
      ],
      "text/plain": [
       "             subreddit                                               text  \\\n",
       "1992              ptsd  enraged said months ago maybe internet access ...   \n",
       "266            anxiety  hello long long long time user paxil looking t...   \n",
       "1301           anxiety  hey ranxiety x200b im undergraduate student as...   \n",
       "1175              ptsd  hey friday woodworking competition everything ...   \n",
       "2218  domesticviolence  used forearm push plate eating counter glass b...   \n",
       "\n",
       "      label                                          processed  \\\n",
       "1992      0  enraged said months ago maybe internet access ...   \n",
       "266       0  hello long long long time user paxil looking t...   \n",
       "1301      0  hey ranxiety x200b im undergraduate student as...   \n",
       "1175      0  hey friday woodworking competition everything ...   \n",
       "2218      1  used forearm push plate eating counter glass b...   \n",
       "\n",
       "                                                  final  \n",
       "1992  __label__ptsd_enraged said months ago maybe in...  \n",
       "266   __label__anxiety_hello long long long time use...  \n",
       "1301  __label__anxiety_hey ranxiety x200b im undergr...  \n",
       "1175  __label__ptsd_hey friday woodworking competiti...  \n",
       "2218  __label__domesticviolence_used forearm push pl...  "
      ]
     },
     "execution_count": 39,
     "metadata": {},
     "output_type": "execute_result"
    }
   ],
   "source": [
    "train_data1.head()"
   ]
  },
  {
   "cell_type": "code",
   "execution_count": 40,
   "id": "b1e223d5",
   "metadata": {},
   "outputs": [
    {
     "data": {
      "text/html": [
       "<div>\n",
       "<style scoped>\n",
       "    .dataframe tbody tr th:only-of-type {\n",
       "        vertical-align: middle;\n",
       "    }\n",
       "\n",
       "    .dataframe tbody tr th {\n",
       "        vertical-align: top;\n",
       "    }\n",
       "\n",
       "    .dataframe thead th {\n",
       "        text-align: right;\n",
       "    }\n",
       "</style>\n",
       "<table border=\"1\" class=\"dataframe\">\n",
       "  <thead>\n",
       "    <tr style=\"text-align: right;\">\n",
       "      <th></th>\n",
       "      <th>subreddit</th>\n",
       "      <th>text</th>\n",
       "      <th>label</th>\n",
       "      <th>processed</th>\n",
       "      <th>final</th>\n",
       "    </tr>\n",
       "  </thead>\n",
       "  <tbody>\n",
       "    <tr>\n",
       "      <th>574</th>\n",
       "      <td>domesticviolence</td>\n",
       "      <td>relationship didnt really let go anywhere hell...</td>\n",
       "      <td>0</td>\n",
       "      <td>relationship didnt really let go anywhere hell...</td>\n",
       "      <td>__label__domesticviolence_relationship didnt r...</td>\n",
       "    </tr>\n",
       "    <tr>\n",
       "      <th>506</th>\n",
       "      <td>ptsd</td>\n",
       "      <td>never thought id situation like life screaming...</td>\n",
       "      <td>1</td>\n",
       "      <td>never thought id situation like life screaming...</td>\n",
       "      <td>__label__ptsd_never thought id situation like ...</td>\n",
       "    </tr>\n",
       "    <tr>\n",
       "      <th>846</th>\n",
       "      <td>domesticviolence</td>\n",
       "      <td>regardless didnt last long maybe half year rel...</td>\n",
       "      <td>0</td>\n",
       "      <td>regardless didnt last long maybe half year rel...</td>\n",
       "      <td>__label__domesticviolence_regardless didnt las...</td>\n",
       "    </tr>\n",
       "    <tr>\n",
       "      <th>1678</th>\n",
       "      <td>anxiety</td>\n",
       "      <td>thinking think anxiety seems boil either fear ...</td>\n",
       "      <td>1</td>\n",
       "      <td>thinking think anxiety seems boil either fear ...</td>\n",
       "      <td>__label__anxiety_thinking think anxiety seems ...</td>\n",
       "    </tr>\n",
       "    <tr>\n",
       "      <th>2093</th>\n",
       "      <td>anxiety</td>\n",
       "      <td>cant begin summarise feel want spend rest life...</td>\n",
       "      <td>1</td>\n",
       "      <td>cant begin summarise feel want spend rest life...</td>\n",
       "      <td>__label__anxiety_cant begin summarise feel wan...</td>\n",
       "    </tr>\n",
       "  </tbody>\n",
       "</table>\n",
       "</div>"
      ],
      "text/plain": [
       "             subreddit                                               text  \\\n",
       "574   domesticviolence  relationship didnt really let go anywhere hell...   \n",
       "506               ptsd  never thought id situation like life screaming...   \n",
       "846   domesticviolence  regardless didnt last long maybe half year rel...   \n",
       "1678           anxiety  thinking think anxiety seems boil either fear ...   \n",
       "2093           anxiety  cant begin summarise feel want spend rest life...   \n",
       "\n",
       "      label                                          processed  \\\n",
       "574       0  relationship didnt really let go anywhere hell...   \n",
       "506       1  never thought id situation like life screaming...   \n",
       "846       0  regardless didnt last long maybe half year rel...   \n",
       "1678      1  thinking think anxiety seems boil either fear ...   \n",
       "2093      1  cant begin summarise feel want spend rest life...   \n",
       "\n",
       "                                                  final  \n",
       "574   __label__domesticviolence_relationship didnt r...  \n",
       "506   __label__ptsd_never thought id situation like ...  \n",
       "846   __label__domesticviolence_regardless didnt las...  \n",
       "1678  __label__anxiety_thinking think anxiety seems ...  \n",
       "2093  __label__anxiety_cant begin summarise feel wan...  "
      ]
     },
     "execution_count": 40,
     "metadata": {},
     "output_type": "execute_result"
    }
   ],
   "source": [
    "test_data1.head()"
   ]
  },
  {
   "cell_type": "code",
   "execution_count": 41,
   "id": "b7b1d8c0",
   "metadata": {},
   "outputs": [],
   "source": [
    "train_data1.to_csv(r\"C:\\Users\\Navneet singh\\Desktop\\tillfasttextdata\\train_reviewfinal3edited.csv\",columns=['final'],index=False,header=False)\n",
    "test_data1.to_csv(r\"C:\\Users\\Navneet singh\\Desktop\\tillfasttextdata\\test_reviewfinal3edited.csv\",columns=['final'],index=False,header=False)"
   ]
  },
  {
   "cell_type": "code",
   "execution_count": 42,
   "id": "b030b1f2",
   "metadata": {},
   "outputs": [],
   "source": [
    "myModel1=fasttext.train_supervised(input=r\"C:\\Users\\Navneet singh\\Desktop\\tillfasttextdata\\train_reviewfinal3edited.csv\")"
   ]
  },
  {
   "cell_type": "code",
   "execution_count": 43,
   "id": "6c1c2ff5",
   "metadata": {},
   "outputs": [
    {
     "data": {
      "text/plain": [
       "(190, 0.07368421052631578, 0.07368421052631578)"
      ]
     },
     "execution_count": 43,
     "metadata": {},
     "output_type": "execute_result"
    }
   ],
   "source": [
    "myModel1.test(r\"C:\\Users\\Navneet singh\\Desktop\\tillfasttextdata\\test_reviewfinal3edited.csv\")"
   ]
  },
  {
   "cell_type": "code",
   "execution_count": 44,
   "id": "bba356ea",
   "metadata": {},
   "outputs": [],
   "source": [
    "train_data2 = train[~train['subreddit'].isin(['assistance', 'domesticviolence','stress','relationships', 'survivorsofabuse', 'homeless', 'almosthomeless', 'food_pantry'])]\n",
    "test_data2 = test[~test['subreddit'].isin(['assistance','domesticviolence','stress', 'relationships', 'survivorsofabuse', 'homeless', 'almosthomeless', 'food_pantry'])]"
   ]
  },
  {
   "cell_type": "code",
   "execution_count": 45,
   "id": "37b8d87a",
   "metadata": {},
   "outputs": [
    {
     "data": {
      "text/html": [
       "<div>\n",
       "<style scoped>\n",
       "    .dataframe tbody tr th:only-of-type {\n",
       "        vertical-align: middle;\n",
       "    }\n",
       "\n",
       "    .dataframe tbody tr th {\n",
       "        vertical-align: top;\n",
       "    }\n",
       "\n",
       "    .dataframe thead th {\n",
       "        text-align: right;\n",
       "    }\n",
       "</style>\n",
       "<table border=\"1\" class=\"dataframe\">\n",
       "  <thead>\n",
       "    <tr style=\"text-align: right;\">\n",
       "      <th></th>\n",
       "      <th>subreddit</th>\n",
       "      <th>text</th>\n",
       "      <th>label</th>\n",
       "      <th>processed</th>\n",
       "      <th>final</th>\n",
       "    </tr>\n",
       "  </thead>\n",
       "  <tbody>\n",
       "    <tr>\n",
       "      <th>1992</th>\n",
       "      <td>ptsd</td>\n",
       "      <td>enraged said months ago maybe internet access ...</td>\n",
       "      <td>0</td>\n",
       "      <td>enraged said months ago maybe internet access ...</td>\n",
       "      <td>__label__ptsd_enraged said months ago maybe in...</td>\n",
       "    </tr>\n",
       "    <tr>\n",
       "      <th>266</th>\n",
       "      <td>anxiety</td>\n",
       "      <td>hello long long long time user paxil looking t...</td>\n",
       "      <td>0</td>\n",
       "      <td>hello long long long time user paxil looking t...</td>\n",
       "      <td>__label__anxiety_hello long long long time use...</td>\n",
       "    </tr>\n",
       "    <tr>\n",
       "      <th>1301</th>\n",
       "      <td>anxiety</td>\n",
       "      <td>hey ranxiety x200b im undergraduate student as...</td>\n",
       "      <td>0</td>\n",
       "      <td>hey ranxiety x200b im undergraduate student as...</td>\n",
       "      <td>__label__anxiety_hey ranxiety x200b im undergr...</td>\n",
       "    </tr>\n",
       "    <tr>\n",
       "      <th>1175</th>\n",
       "      <td>ptsd</td>\n",
       "      <td>hey friday woodworking competition everything ...</td>\n",
       "      <td>0</td>\n",
       "      <td>hey friday woodworking competition everything ...</td>\n",
       "      <td>__label__ptsd_hey friday woodworking competiti...</td>\n",
       "    </tr>\n",
       "    <tr>\n",
       "      <th>149</th>\n",
       "      <td>ptsd</td>\n",
       "      <td>know means dive oneself asked confirmed deeper...</td>\n",
       "      <td>0</td>\n",
       "      <td>know means dive oneself asked confirmed deeper...</td>\n",
       "      <td>__label__ptsd_know means dive oneself asked co...</td>\n",
       "    </tr>\n",
       "  </tbody>\n",
       "</table>\n",
       "</div>"
      ],
      "text/plain": [
       "     subreddit                                               text  label  \\\n",
       "1992      ptsd  enraged said months ago maybe internet access ...      0   \n",
       "266    anxiety  hello long long long time user paxil looking t...      0   \n",
       "1301   anxiety  hey ranxiety x200b im undergraduate student as...      0   \n",
       "1175      ptsd  hey friday woodworking competition everything ...      0   \n",
       "149       ptsd  know means dive oneself asked confirmed deeper...      0   \n",
       "\n",
       "                                              processed  \\\n",
       "1992  enraged said months ago maybe internet access ...   \n",
       "266   hello long long long time user paxil looking t...   \n",
       "1301  hey ranxiety x200b im undergraduate student as...   \n",
       "1175  hey friday woodworking competition everything ...   \n",
       "149   know means dive oneself asked confirmed deeper...   \n",
       "\n",
       "                                                  final  \n",
       "1992  __label__ptsd_enraged said months ago maybe in...  \n",
       "266   __label__anxiety_hello long long long time use...  \n",
       "1301  __label__anxiety_hey ranxiety x200b im undergr...  \n",
       "1175  __label__ptsd_hey friday woodworking competiti...  \n",
       "149   __label__ptsd_know means dive oneself asked co...  "
      ]
     },
     "execution_count": 45,
     "metadata": {},
     "output_type": "execute_result"
    }
   ],
   "source": [
    "train_data2.head()"
   ]
  },
  {
   "cell_type": "code",
   "execution_count": 47,
   "id": "c0547b1e",
   "metadata": {},
   "outputs": [],
   "source": [
    "train_data2.to_csv(r\"C:\\Users\\Navneet singh\\Desktop\\tillfasttextdata\\train_reviewfinal4edited.csv\",columns=['final'],index=False,header=False)\n",
    "test_data2.to_csv(r\"C:\\Users\\Navneet singh\\Desktop\\tillfasttextdata\\test_reviewfinal4edited.csv\",columns=['final'],index=False,header=False)"
   ]
  },
  {
   "cell_type": "code",
   "execution_count": 48,
   "id": "07780b17",
   "metadata": {},
   "outputs": [],
   "source": [
    "myModel1=fasttext.train_supervised(input=r\"C:\\Users\\Navneet singh\\Desktop\\tillfasttextdata\\train_reviewfinal4edited.csv\")"
   ]
  },
  {
   "cell_type": "code",
   "execution_count": 49,
   "id": "0cb4c8f5",
   "metadata": {},
   "outputs": [
    {
     "data": {
      "text/plain": [
       "(161, 0.07453416149068323, 0.07453416149068323)"
      ]
     },
     "execution_count": 49,
     "metadata": {},
     "output_type": "execute_result"
    }
   ],
   "source": [
    "myModel1.test(r\"C:\\Users\\Navneet singh\\Desktop\\tillfasttextdata\\test_reviewfinal4edited.csv\")"
   ]
  },
  {
   "cell_type": "code",
   "execution_count": null,
   "id": "17e8dc44",
   "metadata": {},
   "outputs": [],
   "source": []
  },
  {
   "cell_type": "code",
   "execution_count": null,
   "id": "2beee201",
   "metadata": {},
   "outputs": [],
   "source": []
  },
  {
   "cell_type": "code",
   "execution_count": 53,
   "id": "dd916c78",
   "metadata": {},
   "outputs": [],
   "source": [
    "from sklearn.model_selection import train_test_split\n",
    "\n",
    "X_train, X_test, y_train, y_test = train_test_split(\n",
    "    df1.text, \n",
    "    df1.subreddit, \n",
    "    test_size=0.2, # 20% samples will go to test dataset\n",
    "    random_state=2022,\n",
    "    \n",
    ")"
   ]
  },
  {
   "cell_type": "code",
   "execution_count": 54,
   "id": "79bd86d2",
   "metadata": {},
   "outputs": [
    {
     "name": "stdout",
     "output_type": "stream",
     "text": [
      "Shape of X_train:  (2255,)\n",
      "Shape of X_test:  (564,)\n"
     ]
    }
   ],
   "source": [
    "print(\"Shape of X_train: \", X_train.shape)\n",
    "print(\"Shape of X_test: \", X_test.shape)"
   ]
  },
  {
   "cell_type": "code",
   "execution_count": 55,
   "id": "cfe3ea20",
   "metadata": {},
   "outputs": [],
   "source": [
    "from sklearn.feature_extraction.text import TfidfVectorizer"
   ]
  },
  {
   "cell_type": "code",
   "execution_count": 56,
   "id": "75f2f876",
   "metadata": {},
   "outputs": [
    {
     "name": "stdout",
     "output_type": "stream",
     "text": [
      "                  precision    recall  f1-score   support\n",
      "\n",
      "  almosthomeless       0.19      0.18      0.18        17\n",
      "         anxiety       0.33      0.61      0.43        96\n",
      "      assistance       0.45      0.47      0.46        55\n",
      "domesticviolence       0.27      0.27      0.27        56\n",
      "     food_pantry       0.00      0.00      0.00         6\n",
      "        homeless       0.40      0.19      0.26        31\n",
      "            ptsd       0.42      0.38      0.40       124\n",
      "   relationships       0.47      0.42      0.45       123\n",
      "          stress       0.00      0.00      0.00         6\n",
      "survivorsofabuse       0.14      0.04      0.06        50\n",
      "\n",
      "        accuracy                           0.37       564\n",
      "       macro avg       0.27      0.26      0.25       564\n",
      "    weighted avg       0.36      0.37      0.36       564\n",
      "\n"
     ]
    },
    {
     "name": "stderr",
     "output_type": "stream",
     "text": [
      "C:\\Users\\Navneet singh\\anaconda3\\lib\\site-packages\\sklearn\\neighbors\\_classification.py:211: FutureWarning: Unlike other reduction functions (e.g. `skew`, `kurtosis`), the default behavior of `mode` typically preserves the axis it acts along. In SciPy 1.11.0, this behavior will change: the default value of `keepdims` will become False, the `axis` over which the statistic is taken will be eliminated, and the value None will no longer be accepted. Set `keepdims` to True or False to avoid this warning.\n",
      "  mode, _ = stats.mode(_y[neigh_ind, k], axis=1)\n"
     ]
    }
   ],
   "source": [
    "from sklearn.neighbors import KNeighborsClassifier\n",
    "from sklearn.pipeline import Pipeline\n",
    "from sklearn.metrics import classification_report\n",
    "#1. create a pipeline object\n",
    "clf = Pipeline([\n",
    "     ('vectorizer_tfidf',TfidfVectorizer()),    \n",
    "     ('KNN', KNeighborsClassifier())])\n",
    "#2. fit with X_train and y_train\n",
    "clf.fit(X_train, y_train)\n",
    "#3. get the predictions for X_test and store it in y_pred\n",
    "y_pred = clf.predict(X_test)\n",
    "#4. print the classfication report\n",
    "print(classification_report(y_test, y_pred))"
   ]
  },
  {
   "cell_type": "code",
   "execution_count": 57,
   "id": "6d307d90",
   "metadata": {},
   "outputs": [
    {
     "name": "stdout",
     "output_type": "stream",
     "text": [
      "                  precision    recall  f1-score   support\n",
      "\n",
      "  almosthomeless       0.00      0.00      0.00        17\n",
      "         anxiety       0.64      0.52      0.57        96\n",
      "      assistance       0.83      0.09      0.16        55\n",
      "domesticviolence       1.00      0.02      0.04        56\n",
      "     food_pantry       0.00      0.00      0.00         6\n",
      "        homeless       0.00      0.00      0.00        31\n",
      "            ptsd       0.40      0.79      0.53       124\n",
      "   relationships       0.46      0.87      0.60       123\n",
      "          stress       0.00      0.00      0.00         6\n",
      "survivorsofabuse       0.00      0.00      0.00        50\n",
      "\n",
      "        accuracy                           0.46       564\n",
      "       macro avg       0.33      0.23      0.19       564\n",
      "    weighted avg       0.48      0.46      0.36       564\n",
      "\n"
     ]
    },
    {
     "name": "stderr",
     "output_type": "stream",
     "text": [
      "C:\\Users\\Navneet singh\\anaconda3\\lib\\site-packages\\sklearn\\metrics\\_classification.py:1248: UndefinedMetricWarning: Precision and F-score are ill-defined and being set to 0.0 in labels with no predicted samples. Use `zero_division` parameter to control this behavior.\n",
      "  _warn_prf(average, modifier, msg_start, len(result))\n",
      "C:\\Users\\Navneet singh\\anaconda3\\lib\\site-packages\\sklearn\\metrics\\_classification.py:1248: UndefinedMetricWarning: Precision and F-score are ill-defined and being set to 0.0 in labels with no predicted samples. Use `zero_division` parameter to control this behavior.\n",
      "  _warn_prf(average, modifier, msg_start, len(result))\n",
      "C:\\Users\\Navneet singh\\anaconda3\\lib\\site-packages\\sklearn\\metrics\\_classification.py:1248: UndefinedMetricWarning: Precision and F-score are ill-defined and being set to 0.0 in labels with no predicted samples. Use `zero_division` parameter to control this behavior.\n",
      "  _warn_prf(average, modifier, msg_start, len(result))\n"
     ]
    }
   ],
   "source": [
    "from sklearn.naive_bayes import MultinomialNB\n",
    "#1. create a pipeline object\n",
    "clf = Pipeline([\n",
    "     ('vectorizer_tfidf',TfidfVectorizer()),    \n",
    "     ('Multi NB', MultinomialNB())])\n",
    "#2. fit with X_train and y_train\n",
    "clf.fit(X_train, y_train)\n",
    "#3. get the predictions for X_test and store it in y_pred\n",
    "y_pred = clf.predict(X_test)\n",
    "#4. print the classfication report\n",
    "print(classification_report(y_test, y_pred))"
   ]
  },
  {
   "cell_type": "code",
   "execution_count": 58,
   "id": "2d154e51",
   "metadata": {},
   "outputs": [
    {
     "name": "stdout",
     "output_type": "stream",
     "text": [
      "                  precision    recall  f1-score   support\n",
      "\n",
      "  almosthomeless       0.00      0.00      0.00        17\n",
      "         anxiety       0.58      0.67      0.62        96\n",
      "      assistance       0.55      0.51      0.53        55\n",
      "domesticviolence       0.48      0.23      0.31        56\n",
      "     food_pantry       0.00      0.00      0.00         6\n",
      "        homeless       0.67      0.45      0.54        31\n",
      "            ptsd       0.46      0.65      0.54       124\n",
      "   relationships       0.49      0.71      0.58       123\n",
      "          stress       0.00      0.00      0.00         6\n",
      "survivorsofabuse       0.50      0.02      0.04        50\n",
      "\n",
      "        accuracy                           0.51       564\n",
      "       macro avg       0.37      0.32      0.32       564\n",
      "    weighted avg       0.49      0.51      0.47       564\n",
      "\n"
     ]
    },
    {
     "name": "stderr",
     "output_type": "stream",
     "text": [
      "C:\\Users\\Navneet singh\\anaconda3\\lib\\site-packages\\sklearn\\metrics\\_classification.py:1248: UndefinedMetricWarning: Precision and F-score are ill-defined and being set to 0.0 in labels with no predicted samples. Use `zero_division` parameter to control this behavior.\n",
      "  _warn_prf(average, modifier, msg_start, len(result))\n",
      "C:\\Users\\Navneet singh\\anaconda3\\lib\\site-packages\\sklearn\\metrics\\_classification.py:1248: UndefinedMetricWarning: Precision and F-score are ill-defined and being set to 0.0 in labels with no predicted samples. Use `zero_division` parameter to control this behavior.\n",
      "  _warn_prf(average, modifier, msg_start, len(result))\n",
      "C:\\Users\\Navneet singh\\anaconda3\\lib\\site-packages\\sklearn\\metrics\\_classification.py:1248: UndefinedMetricWarning: Precision and F-score are ill-defined and being set to 0.0 in labels with no predicted samples. Use `zero_division` parameter to control this behavior.\n",
      "  _warn_prf(average, modifier, msg_start, len(result))\n"
     ]
    }
   ],
   "source": [
    "from sklearn.ensemble import RandomForestClassifier\n",
    "#1. create a pipeline object\n",
    "clf = Pipeline([\n",
    "     ('vectorizer_tfidf',TfidfVectorizer()),        #using the ngram_range parameter \n",
    "     ('Random Forest', RandomForestClassifier())])\n",
    "#2. fit with X_train and y_train\n",
    "clf.fit(X_train, y_train)\n",
    "#3. get the predictions for X_test and store it in y_pred\n",
    "y_pred = clf.predict(X_test)\n",
    "#4. print the classfication report\n",
    "print(classification_report(y_test, y_pred))"
   ]
  },
  {
   "cell_type": "code",
   "execution_count": 62,
   "id": "2c531c4d",
   "metadata": {},
   "outputs": [
    {
     "data": {
      "text/plain": [
       "array([[ 0,  2,  6,  1,  0,  4,  2,  0,  0,  0],\n",
       "       [ 0, 66,  2,  0,  0,  0, 18, 14,  0,  0],\n",
       "       [ 0,  1, 37,  0,  0,  1, 11,  7,  0,  1],\n",
       "       [ 0,  4,  2,  9,  0,  0, 18, 29,  0,  1],\n",
       "       [ 0,  1,  3,  0,  0,  0,  2,  1,  0,  0],\n",
       "       [ 0,  5,  7,  1,  0,  8,  8,  5,  0,  0],\n",
       "       [ 0, 25,  1,  3,  0,  0, 70, 17,  0,  1],\n",
       "       [ 0, 12,  2,  2,  0,  0,  9, 86,  0,  0],\n",
       "       [ 0,  5,  2,  0,  0,  0,  2,  2,  1,  0],\n",
       "       [ 0,  6,  1,  2,  0,  0, 15, 20,  0,  3]], dtype=int64)"
      ]
     },
     "execution_count": 62,
     "metadata": {},
     "output_type": "execute_result"
    }
   ],
   "source": [
    "from sklearn.metrics import confusion_matrix\n",
    "cm = confusion_matrix(y_test, y_pred)\n",
    "cm"
   ]
  },
  {
   "cell_type": "code",
   "execution_count": 63,
   "id": "3cd15f5d",
   "metadata": {},
   "outputs": [
    {
     "data": {
      "text/plain": [
       "Text(69.0, 0.5, 'Truth')"
      ]
     },
     "execution_count": 63,
     "metadata": {},
     "output_type": "execute_result"
    },
    {
     "data": {
      "image/png": "[encoded data removed]",
      "text/plain": [
       "<Figure size 720x504 with 2 Axes>"
      ]
     },
     "metadata": {},
     "output_type": "display_data"
    }
   ],
   "source": [
    "from matplotlib import pyplot as plt\n",
    "import seaborn as sn\n",
    "plt.figure(figsize = (10,7))\n",
    "sn.heatmap(cm, annot=True, fmt='d')\n",
    "plt.xlabel('Prediction')\n",
    "plt.ylabel('Truth')"
   ]
  },
  {
   "cell_type": "code",
   "execution_count": 89,
   "id": "850d46b2",
   "metadata": {},
   "outputs": [],
   "source": [
    "from sklearn.model_selection import train_test_split\n",
    "\n",
    "X_train, X_test, y_train, y_test = train_test_split(\n",
    "    train_data2.text, \n",
    "    train_data2.subreddit, \n",
    "    test_size=0.2, # 20% samples will go to test dataset\n",
    "    random_state=20,\n",
    ")"
   ]
  },
  {
   "cell_type": "code",
   "execution_count": 90,
   "id": "7e2dbd6f",
   "metadata": {},
   "outputs": [],
   "source": [
    "from sklearn.feature_extraction.text import TfidfVectorizer"
   ]
  },
  {
   "cell_type": "code",
   "execution_count": 92,
   "id": "33f418f8",
   "metadata": {},
   "outputs": [
    {
     "name": "stdout",
     "output_type": "stream",
     "text": [
      "              precision    recall  f1-score   support\n",
      "\n",
      "     anxiety       0.71      0.71      0.71        70\n",
      "        ptsd       0.75      0.75      0.75        81\n",
      "\n",
      "    accuracy                           0.74       151\n",
      "   macro avg       0.73      0.73      0.73       151\n",
      "weighted avg       0.74      0.74      0.74       151\n",
      "\n"
     ]
    }
   ],
   "source": [
    "from sklearn.ensemble import RandomForestClassifier\n",
    "#1. create a pipeline object\n",
    "clf = Pipeline([\n",
    "     ('vectorizer_tfidf',TfidfVectorizer()),        #using the ngram_range parameter \n",
    "     ('Random Forest', RandomForestClassifier())])\n",
    "#2. fit with X_train and y_train\n",
    "clf.fit(X_train, y_train)\n",
    "#3. get the predictions for X_test and store it in y_pred\n",
    "y_pred = clf.predict(X_test)\n",
    "#4. print the classfication report\n",
    "print(classification_report(y_test, y_pred))"
   ]
  },
  {
   "cell_type": "code",
   "execution_count": 96,
   "id": "03860df3",
   "metadata": {},
   "outputs": [
    {
     "name": "stdout",
     "output_type": "stream",
     "text": [
      "              precision    recall  f1-score   support\n",
      "\n",
      "     anxiety       0.76      0.53      0.62        70\n",
      "        ptsd       0.68      0.85      0.75        81\n",
      "\n",
      "    accuracy                           0.70       151\n",
      "   macro avg       0.72      0.69      0.69       151\n",
      "weighted avg       0.71      0.70      0.69       151\n",
      "\n"
     ]
    }
   ],
   "source": [
    "from sklearn.naive_bayes import MultinomialNB\n",
    "#1. create a pipeline object\n",
    "clf = Pipeline([\n",
    "     ('vectorizer_tfidf',TfidfVectorizer()),    \n",
    "     ('Multi NB', MultinomialNB())])\n",
    "#2. fit with X_train and y_train\n",
    "clf.fit(X_train, y_train)\n",
    "#3. get the predictions for X_test and store it in y_pred\n",
    "y_pred = clf.predict(X_test)\n",
    "#4. print the classfication report\n",
    "print(classification_report(y_test, y_pred))"
   ]
  },
  {
   "cell_type": "code",
   "execution_count": 95,
   "id": "d49a466f",
   "metadata": {},
   "outputs": [
    {
     "name": "stdout",
     "output_type": "stream",
     "text": [
      "              precision    recall  f1-score   support\n",
      "\n",
      "     anxiety       0.60      0.69      0.64        70\n",
      "        ptsd       0.69      0.60      0.64        81\n",
      "\n",
      "    accuracy                           0.64       151\n",
      "   macro avg       0.65      0.65      0.64       151\n",
      "weighted avg       0.65      0.64      0.64       151\n",
      "\n"
     ]
    },
    {
     "name": "stderr",
     "output_type": "stream",
     "text": [
      "C:\\Users\\Navneet singh\\anaconda3\\lib\\site-packages\\sklearn\\neighbors\\_classification.py:211: FutureWarning: Unlike other reduction functions (e.g. `skew`, `kurtosis`), the default behavior of `mode` typically preserves the axis it acts along. In SciPy 1.11.0, this behavior will change: the default value of `keepdims` will become False, the `axis` over which the statistic is taken will be eliminated, and the value None will no longer be accepted. Set `keepdims` to True or False to avoid this warning.\n",
      "  mode, _ = stats.mode(_y[neigh_ind, k], axis=1)\n"
     ]
    }
   ],
   "source": [
    "from sklearn.neighbors import KNeighborsClassifier\n",
    "from sklearn.pipeline import Pipeline\n",
    "from sklearn.metrics import classification_report\n",
    "#1. create a pipeline object\n",
    "clf = Pipeline([\n",
    "     ('vectorizer_tfidf',TfidfVectorizer()),    \n",
    "     ('KNN', KNeighborsClassifier())])\n",
    "#2. fit with X_train and y_train\n",
    "clf.fit(X_train, y_train)\n",
    "#3. get the predictions for X_test and store it in y_pred\n",
    "y_pred = clf.predict(X_test)\n",
    "#4. print the classfication report\n",
    "print(classification_report(y_test, y_pred))"
   ]
  },
  {
   "cell_type": "code",
   "execution_count": 99,
   "id": "14ed8dcd",
   "metadata": {},
   "outputs": [
    {
     "data": {
      "text/plain": [
       "(752, 5)"
      ]
     },
     "execution_count": 99,
     "metadata": {},
     "output_type": "execute_result"
    }
   ],
   "source": [
    "train_data2.shape"
   ]
  },
  {
   "cell_type": "code",
   "execution_count": 4,
   "id": "de2d9f2f",
   "metadata": {},
   "outputs": [
    {
     "name": "stdout",
     "output_type": "stream",
     "text": [
      "Requirement already satisfied: pyppeteer in c:\\users\\navneet singh\\anaconda3\\lib\\site-packages (0.2.2)\n",
      "Requirement already satisfied: pyee<8.0.0,>=7.0.1 in c:\\users\\navneet singh\\anaconda3\\lib\\site-packages (from pyppeteer) (7.0.4)\n",
      "Requirement already satisfied: tqdm<5.0.0,>=4.42.1 in c:\\users\\navneet singh\\anaconda3\\lib\\site-packages (from pyppeteer) (4.62.3)\n",
      "Requirement already satisfied: urllib3<2.0.0,>=1.25.8 in c:\\users\\navneet singh\\anaconda3\\lib\\site-packages (from pyppeteer) (1.26.7)\n",
      "Requirement already satisfied: websockets<9.0,>=8.1 in c:\\users\\navneet singh\\anaconda3\\lib\\site-packages (from pyppeteer) (8.1)\n",
      "Requirement already satisfied: appdirs<2.0.0,>=1.4.3 in c:\\users\\navneet singh\\anaconda3\\lib\\site-packages (from pyppeteer) (1.4.4)\n",
      "Requirement already satisfied: colorama in c:\\users\\navneet singh\\anaconda3\\lib\\site-packages (from tqdm<5.0.0,>=4.42.1->pyppeteer) (0.4.6)\n",
      "Note: you may need to restart the kernel to use updated packages.\n"
     ]
    }
   ],
   "source": [
    "pip install pyppeteer"
   ]
  },
  {
   "cell_type": "code",
   "execution_count": 3,
   "id": "81e5abe7",
   "metadata": {},
   "outputs": [
    {
     "name": "stdout",
     "output_type": "stream",
     "text": [
      "Note: you may need to restart the kernel to use updated packages.\n"
     ]
    },
    {
     "name": "stderr",
     "output_type": "stream",
     "text": [
      "ERROR: Could not find a version that satisfies the requirement nbconvert--allow-chromium-download (from versions: none)\n",
      "ERROR: No matching distribution found for nbconvert--allow-chromium-download\n"
     ]
    }
   ],
   "source": [
    "pip install nbconvert--allow-chromium-download"
   ]
  }
 ],
 "metadata": {
  "kernelspec": {
   "display_name": "Python 3 (ipykernel)",
   "language": "python",
   "name": "python3"
  },
  "language_info": {
   "codemirror_mode": {
    "name": "ipython",
    "version": 3
   },
   "file_extension": ".py",
   "mimetype": "text/x-python",
   "name": "python",
   "nbconvert_exporter": "python",
   "pygments_lexer": "ipython3",
   "version": "3.9.7"
  }
 },
 "nbformat": 4,
 "nbformat_minor": 5
}
